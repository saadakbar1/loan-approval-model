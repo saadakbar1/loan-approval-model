import numpy as np 
import pandas as pd 
import seaborn as sns
from sklearn.model_selection import train_test_split
from sklearn import svm
from sklearn.metrics import accuracy_score
import matplotlib.pyplot as plt
import os
for dirname, _, filenames in os.walk('/kaggle/input'):
    for filename in filenames:
        print(os.path.join(dirname, filename))

ks = pd.read_csv('traindata.csv')

type(ks)

ks.shape

ks.head()

ks.describe()

ks.isnull().sum()

ks.dropna(inplace=True)

ks.replace({"Loan_Status":{'N':0,'Y':1}},inplace=True)
ks.head()

ks['Dependents'].value_counts()

ks = ks.replace(to_replace='3+', value='4')

ks['Dependents'].value_counts()

sns.countplot(x='Education',hue='Loan_Status',data=ks)

plt.figure(figsize=(10,6))
sns.pairplot(ks)
plt.show()

#marital status and loan status 
sns.countplot(x='Married',hue='Loan_Status',data=ks)

ks.replace({'Married':{'No':0, 'Yes':1},'Gender':{'Male':1,'Female':0},'Education':{'Graduate':1,'Not Graduate':0},'Self_Employed':{'Yes':1,'No':0},'Property_Area':{'Rural':0,'Semiurban':1,'Urban':2}},inplace=True)
ks.head()


X = ks.drop(columns=['Loan_ID','Loan_Status'],axis=1) #for removing columns we use axis=1 and for rows we use axis=0
Y = ks['Loan_Status']

print(X)
print(Y)

ks.head()

X_train,X_test,Y_train,Y_test = train_test_split(X,Y,test_size=0.1,stratify=Y,random_state=2)

print(X.shape,X_train.shape,X_test.shape)

classifier = svm.SVC(kernel='linear')

classifier.fit(X_train,Y_train)

X_train_prediction = classifier.predict(X_train)
training_data_accuracy = accuracy_score(X_train_prediction,Y_train)

print(training_data_accuracy)
#0.798611

X_test_prediction = classifier.predict(X_test)
test_data_accuracy = accuracy_score(X_test_prediction,Y_test)

print(test_data_accuracy)

#0.83333
